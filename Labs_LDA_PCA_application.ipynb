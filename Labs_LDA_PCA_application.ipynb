{
  "nbformat": 4,
  "nbformat_minor": 0,
  "metadata": {
    "colab": {
      "name": "Labs_LDA_PCA_application.ipynb",
      "provenance": [],
      "collapsed_sections": []
    },
    "kernelspec": {
      "name": "python3",
      "display_name": "Python 3"
    }
  },
  "cells": [
    {
      "cell_type": "markdown",
      "metadata": {
        "id": "dwBUO6Ic--bP",
        "colab_type": "text"
      },
      "source": [
        "### 알고리즘 비교\n",
        "- [1] RF + LDA \n",
        "- [2] RF + PCA\n",
        "- [3] RF "
      ]
    },
    {
      "cell_type": "markdown",
      "metadata": {
        "id": "GyS-xNAU9tYe",
        "colab_type": "text"
      },
      "source": [
        "## [1] Recognizing hand-written digits + LDA + RF"
      ]
    },
    {
      "cell_type": "code",
      "metadata": {
        "id": "ekzmV7he8ZDl",
        "colab_type": "code",
        "outputId": "2c32f6a8-84ea-460a-d7aa-289e7ba7a789",
        "colab": {
          "base_uri": "https://localhost:8080/",
          "height": 145
        }
      },
      "source": [
        "import numpy as np\n",
        "import pandas as pd\n",
        "from sklearn import datasets\n",
        "from sklearn.model_selection import train_test_split\n",
        "\n",
        "## 데이터 로드\n",
        "digits = datasets.load_digits()\n",
        "n_samples = len(digits.images)\n",
        "data = digits.images.reshape((n_samples, -1))\n",
        "X_train, X_test, y_train, y_test = train_test_split(data, digits.target, test_size=0.5, shuffle=False)\n",
        "\n",
        "\n",
        "## 데이터 변환\n",
        "from sklearn.discriminant_analysis import LinearDiscriminantAnalysis as LDA\n",
        "lda = LDA(n_components=32)\n",
        "X_train = lda.fit_transform(X_train, y_train)\n",
        "X_test = lda.transform(X_test)"
      ],
      "execution_count": 0,
      "outputs": [
        {
          "output_type": "stream",
          "text": [
            "/usr/local/lib/python3.6/dist-packages/sklearn/discriminant_analysis.py:466: ChangedBehaviorWarning: n_components cannot be larger than min(n_features, n_classes - 1). Using min(n_features, n_classes - 1) = min(64, 10 - 1) = 9 components.\n",
            "  ChangedBehaviorWarning)\n",
            "/usr/local/lib/python3.6/dist-packages/sklearn/discriminant_analysis.py:472: FutureWarning: In version 0.23, setting n_components > min(n_features, n_classes - 1) will raise a ValueError. You should set n_components to None (default), or a value smaller or equal to min(n_features, n_classes - 1).\n",
            "  warnings.warn(future_msg, FutureWarning)\n",
            "/usr/local/lib/python3.6/dist-packages/sklearn/discriminant_analysis.py:388: UserWarning: Variables are collinear.\n",
            "  warnings.warn(\"Variables are collinear.\")\n"
          ],
          "name": "stderr"
        }
      ]
    },
    {
      "cell_type": "code",
      "metadata": {
        "id": "_8hxlCsxhVyB",
        "colab_type": "code",
        "outputId": "ae179f55-a447-42e5-e81b-f5164fd509d7",
        "colab": {
          "base_uri": "https://localhost:8080/",
          "height": 145
        }
      },
      "source": [
        "import numpy as np \n",
        "import pandas as pd \n",
        "from sklearn import datasets \n",
        "from sklearn.model_selection import train_test_split\n",
        "\n",
        "digits = datasets.load_digits()\n",
        "n_samples = len(digits.images)\n",
        "data = digits.images.reshape((n_samples, -1))\n",
        "X_train, X_test, y_train, y_test = train_test_split(data, digits.target, test_size = 0.5, shuffle = False)\n",
        "\n",
        "from sklearn.discriminant_analysis import LinearDiscriminantAnalysis as LDA \n",
        "lda = LDA(n_components = 32)\n",
        "X_train = lda.fit_transform(X_train,y_train)\n",
        "X_test = lda.transform(X_test)"
      ],
      "execution_count": 0,
      "outputs": [
        {
          "output_type": "stream",
          "text": [
            "/usr/local/lib/python3.6/dist-packages/sklearn/discriminant_analysis.py:466: ChangedBehaviorWarning: n_components cannot be larger than min(n_features, n_classes - 1). Using min(n_features, n_classes - 1) = min(64, 10 - 1) = 9 components.\n",
            "  ChangedBehaviorWarning)\n",
            "/usr/local/lib/python3.6/dist-packages/sklearn/discriminant_analysis.py:472: FutureWarning: In version 0.23, setting n_components > min(n_features, n_classes - 1) will raise a ValueError. You should set n_components to None (default), or a value smaller or equal to min(n_features, n_classes - 1).\n",
            "  warnings.warn(future_msg, FutureWarning)\n",
            "/usr/local/lib/python3.6/dist-packages/sklearn/discriminant_analysis.py:388: UserWarning: Variables are collinear.\n",
            "  warnings.warn(\"Variables are collinear.\")\n"
          ],
          "name": "stderr"
        }
      ]
    },
    {
      "cell_type": "code",
      "metadata": {
        "id": "rSXZPR9o8aeG",
        "colab_type": "code",
        "outputId": "6ccc5482-abd3-4d85-c949-8abe709e12d5",
        "colab": {
          "base_uri": "https://localhost:8080/",
          "height": 53
        }
      },
      "source": [
        "\n",
        "from sklearn.ensemble import RandomForestClassifier\n",
        "clf = RandomForestClassifier(max_depth = 2, random_state= 0)\n",
        "clf.fit(X_train,y_train)\n",
        "y_pred = clf.predict(X_test)\n",
        "\n"
      ],
      "execution_count": 0,
      "outputs": [
        {
          "output_type": "stream",
          "text": [
            "/usr/local/lib/python3.6/dist-packages/sklearn/ensemble/forest.py:245: FutureWarning: The default value of n_estimators will change from 10 in version 0.20 to 100 in 0.22.\n",
            "  \"10 in version 0.20 to 100 in 0.22.\", FutureWarning)\n"
          ],
          "name": "stderr"
        }
      ]
    },
    {
      "cell_type": "code",
      "metadata": {
        "id": "sZ0nCIx98b33",
        "colab_type": "code",
        "outputId": "cabae04a-d1bf-4e21-b18f-bca817768ba9",
        "colab": {
          "base_uri": "https://localhost:8080/",
          "height": 215
        }
      },
      "source": [
        "\n",
        "## 데이터 평가\n",
        "from sklearn.metrics import confusion_matrix\n",
        "from sklearn.metrics import accuracy_score\n",
        "cm = confusion_matrix(y_test,y_pred)\n",
        "\n",
        "print(cm)\n",
        "print(accuracy_score(y_test, y_pred))"
      ],
      "execution_count": 0,
      "outputs": [
        {
          "output_type": "stream",
          "text": [
            "[[86  0  0  0  1  0  0  0  0  1]\n",
            " [ 0  0 55  8  9  0  0  0 16  3]\n",
            " [ 0  0 72 12  0  2  0  0  0  0]\n",
            " [ 0  0 10 69  0  6  0  0  3  3]\n",
            " [ 2  0  0  0 80  1  2  1  0  6]\n",
            " [ 1  0  1  1  0 82  5  1  0  0]\n",
            " [ 0  0  1  0 11  2 77  0  0  0]\n",
            " [ 0  0 11  1  5  7  0 62  0  3]\n",
            " [ 0  0 14  1  4  8  1  0 44 16]\n",
            " [ 5  0  4  6  0  1  0  1 10 65]]\n",
            "0.7085650723025584\n"
          ],
          "name": "stdout"
        }
      ]
    },
    {
      "cell_type": "markdown",
      "metadata": {
        "id": "kAZ5MdKQ8lEf",
        "colab_type": "text"
      },
      "source": [
        "## [2] Recognizing hand-written digits + PCA + RF"
      ]
    },
    {
      "cell_type": "code",
      "metadata": {
        "id": "QIwDJGNa8uuH",
        "colab_type": "code",
        "colab": {}
      },
      "source": [
        "import numpy as np\n",
        "import pandas as pd\n",
        "from sklearn import datasets\n",
        "from sklearn.model_selection import train_test_split\n",
        "\n",
        "\n",
        "## 데이터 로드\n",
        "digits = datasets.load_digits()\n",
        "n_samples = len(digits.images)\n",
        "data = digits.images.reshape((n_samples, -1))\n",
        "X_train, X_test, y_train, y_test = train_test_split(data, digits.target, test_size=0.5, shuffle=False)\n",
        "\n",
        "## 데이터 변환\n",
        "from sklearn.decomposition import PCA\n",
        "pca = PCA(n_components=32)\n",
        "X_train = pca.fit_transform(X_train, y_train)\n",
        "X_test = pca.fit_transform(X_test)\n",
        "\n"
      ],
      "execution_count": 0,
      "outputs": []
    },
    {
      "cell_type": "code",
      "metadata": {
        "id": "-yydSl9i-WyV",
        "colab_type": "code",
        "outputId": "3350c0aa-842a-42b5-f804-a25155a1e143",
        "colab": {
          "base_uri": "https://localhost:8080/",
          "height": 73
        }
      },
      "source": [
        "## 데이터 분류기 학습 및 테스트\n",
        "\n",
        "from sklearn.ensemble import RandomForestClassifier\n",
        "classifier = RandomForestClassifier(max_depth=2, random_state=0)\n",
        "classifier.fit(X_train, y_train)\n",
        "y_pred = classifier.predict(X_test)"
      ],
      "execution_count": 0,
      "outputs": [
        {
          "output_type": "stream",
          "text": [
            "/usr/local/lib/python3.6/dist-packages/sklearn/ensemble/forest.py:245: FutureWarning: The default value of n_estimators will change from 10 in version 0.20 to 100 in 0.22.\n",
            "  \"10 in version 0.20 to 100 in 0.22.\", FutureWarning)\n"
          ],
          "name": "stderr"
        }
      ]
    },
    {
      "cell_type": "code",
      "metadata": {
        "id": "GmtZOrlk86v_",
        "colab_type": "code",
        "outputId": "6a208db9-ea17-4521-9c6d-b5d3640eaa3c",
        "colab": {
          "base_uri": "https://localhost:8080/",
          "height": 215
        }
      },
      "source": [
        "\n",
        "## 평가\n",
        "\n",
        "from sklearn.metrics import confusion_matrix\n",
        "from sklearn.metrics import accuracy_score\n",
        "cm = confusion_matrix(y_test, y_pred)\n",
        "print(cm)\n",
        "print('Accuracy' + str(accuracy_score(y_test, y_pred)))"
      ],
      "execution_count": 0,
      "outputs": [
        {
          "output_type": "stream",
          "text": [
            "[[ 5  0  0 68  0  0  0 12  1  2]\n",
            " [ 2  0  2  2  2  4 59  1  4 15]\n",
            " [21  0  1  8 25  0 25  4  0  2]\n",
            " [62  0  6  4  1  3 12  0  1  2]\n",
            " [ 5  0  0  1  1  7  3 62  6  7]\n",
            " [ 1  0  0  1  7 70  7  2  1  2]\n",
            " [ 0  0  0  9  0  0  0 78  2  2]\n",
            " [14  0  0  0 38  0 37  0  0  0]\n",
            " [ 7  0  5 19 10  2 28  4 13  0]\n",
            " [33  0  4 27  1  7  3  0  9  8]]\n",
            "Accuracy0.11345939933259176\n"
          ],
          "name": "stdout"
        }
      ]
    },
    {
      "cell_type": "markdown",
      "metadata": {
        "id": "qureoavQ-jlu",
        "colab_type": "text"
      },
      "source": [
        "## [3] Recognizing hand-written digits + RF"
      ]
    },
    {
      "cell_type": "code",
      "metadata": {
        "id": "OTfmRmsS89c9",
        "colab_type": "code",
        "colab": {}
      },
      "source": [
        "import numpy as np\n",
        "import pandas as pd\n",
        "from sklearn import datasets\n",
        "from sklearn.model_selection import train_test_split\n",
        "\n",
        "## 데이터 로드\n",
        "digits = datasets.load_digits()\n",
        "n_samples = len(digits.images)\n",
        "data = digits.images.reshape((n_samples, -1))\n",
        "X_train, X_test, y_train, y_test = train_test_split(data, digits.target, test_size=0.5, shuffle=False)\n",
        "\n"
      ],
      "execution_count": 0,
      "outputs": []
    },
    {
      "cell_type": "code",
      "metadata": {
        "id": "QYIb5mtX-mK8",
        "colab_type": "code",
        "outputId": "2542579f-fa86-4793-8ca2-a8680bdb7feb",
        "colab": {
          "base_uri": "https://localhost:8080/",
          "height": 73
        }
      },
      "source": [
        "## 데이터 분류기 학습 및 테스트\n",
        "\n",
        "from sklearn.ensemble import RandomForestClassifier\n",
        "classifier = RandomForestClassifier(max_depth=2, random_state=0)\n",
        "classifier.fit(X_train, y_train)\n",
        "y_pred = classifier.predict(X_test)"
      ],
      "execution_count": 0,
      "outputs": [
        {
          "output_type": "stream",
          "text": [
            "/usr/local/lib/python3.6/dist-packages/sklearn/ensemble/forest.py:245: FutureWarning: The default value of n_estimators will change from 10 in version 0.20 to 100 in 0.22.\n",
            "  \"10 in version 0.20 to 100 in 0.22.\", FutureWarning)\n"
          ],
          "name": "stderr"
        }
      ]
    },
    {
      "cell_type": "code",
      "metadata": {
        "id": "kgpulLA6-oAU",
        "colab_type": "code",
        "outputId": "e17e8a0c-82b7-4ed8-f4bc-694580c6c340",
        "colab": {
          "base_uri": "https://localhost:8080/",
          "height": 215
        }
      },
      "source": [
        "\n",
        "## 데이터 평가\n",
        "from sklearn.metrics import confusion_matrix\n",
        "from sklearn.metrics import accuracy_score\n",
        "\n",
        "cm = confusion_matrix(y_test, y_pred)\n",
        "print(cm)\n",
        "print('Accuracy' + str(accuracy_score(y_test, y_pred)))"
      ],
      "execution_count": 0,
      "outputs": [
        {
          "output_type": "stream",
          "text": [
            "[[87  0  0  0  1  0  0  0  0  0]\n",
            " [ 0 40  6  6  7  3  0 13  5 11]\n",
            " [ 1  0 63 15  0  0  0  2  2  3]\n",
            " [ 2  2  0 73  0  0  1  9  2  2]\n",
            " [ 7  0  0  0 78  0  2  5  0  0]\n",
            " [ 2  1  0 39 14 21  1  4  1  8]\n",
            " [ 2  1  0  1  0  0 86  0  1  0]\n",
            " [ 0  0  0  0 10  1  0 78  0  0]\n",
            " [ 1 10 18  8  5  1  2 14 27  2]\n",
            " [ 0  0  0 11  2  1  0  4  1 73]]\n",
            "Accuracy0.696329254727475\n"
          ],
          "name": "stdout"
        }
      ]
    },
    {
      "cell_type": "code",
      "metadata": {
        "id": "CsTNFnFk-sxt",
        "colab_type": "code",
        "colab": {}
      },
      "source": [
        ""
      ],
      "execution_count": 0,
      "outputs": []
    }
  ]
}
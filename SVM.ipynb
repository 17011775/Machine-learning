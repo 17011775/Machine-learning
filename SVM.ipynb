{
  "nbformat": 4,
  "nbformat_minor": 0,
  "metadata": {
    "colab": {
      "name": "SVM.ipynb",
      "provenance": [],
      "collapsed_sections": []
    },
    "kernelspec": {
      "name": "python3",
      "display_name": "Python 3"
    }
  },
  "cells": [
    {
      "cell_type": "code",
      "metadata": {
        "id": "F0rHWPid8b9L",
        "colab_type": "code",
        "outputId": "982bd937-fae9-412a-ade5-2e468e5597ec",
        "colab": {
          "base_uri": "https://localhost:8080/",
          "height": 161
        }
      },
      "source": [
        "from sklearn.datasets import fetch_lfw_people\n",
        "faces = fetch_lfw_people(min_faces_per_person=60)\n",
        "print(faces.target_names)\n",
        "print(faces.target_names)\n"
      ],
      "execution_count": 0,
      "outputs": [
        {
          "output_type": "stream",
          "text": [
            "Downloading LFW metadata: https://ndownloader.figshare.com/files/5976012\n",
            "Downloading LFW metadata: https://ndownloader.figshare.com/files/5976009\n",
            "Downloading LFW metadata: https://ndownloader.figshare.com/files/5976006\n",
            "Downloading LFW data (~200MB): https://ndownloader.figshare.com/files/5976015\n"
          ],
          "name": "stderr"
        },
        {
          "output_type": "stream",
          "text": [
            "['Ariel Sharon' 'Colin Powell' 'Donald Rumsfeld' 'George W Bush'\n",
            " 'Gerhard Schroeder' 'Hugo Chavez' 'Junichiro Koizumi' 'Tony Blair']\n",
            "['Ariel Sharon' 'Colin Powell' 'Donald Rumsfeld' 'George W Bush'\n",
            " 'Gerhard Schroeder' 'Hugo Chavez' 'Junichiro Koizumi' 'Tony Blair']\n"
          ],
          "name": "stdout"
        }
      ]
    },
    {
      "cell_type": "markdown",
      "metadata": {
        "id": "qg9RlAmPsQI5",
        "colab_type": "text"
      },
      "source": [
        "### PCA\n",
        "-  62×47 or nearly 3000 pixels ==> 150 dimension vector"
      ]
    },
    {
      "cell_type": "code",
      "metadata": {
        "id": "sJBoyXJjZguq",
        "colab_type": "code",
        "colab": {}
      },
      "source": [
        "from sklearn.decomposition import PCA as RandomizedPCA\n",
        "from sklearn.pipeline import make_pipeline\n",
        "from sklearn.svm import SVC\n",
        "pca = RandomizedPCA(n_components = 150,whiten = True,random_state = 0  )\n",
        "svm = SVC(kernel = 'rbf', class_weight = 'balanced')\n",
        "model = make_pipeline(pca,svm)"
      ],
      "execution_count": 0,
      "outputs": []
    },
    {
      "cell_type": "markdown",
      "metadata": {
        "id": "s8V_-3ZRsTej",
        "colab_type": "text"
      },
      "source": [
        "### split the data into a training and testing set:"
      ]
    },
    {
      "cell_type": "code",
      "metadata": {
        "id": "Oh5vukyvbcZ_",
        "colab_type": "code",
        "colab": {}
      },
      "source": [
        "from sklearn.model_selection import train_test_split\n",
        "Xtrain,Xtest,ytrain,ytest =  train_test_split(faces.data,faces.target,random_state = 0  )\n"
      ],
      "execution_count": 0,
      "outputs": []
    },
    {
      "cell_type": "markdown",
      "metadata": {
        "id": "s1CNtVOnsDoJ",
        "colab_type": "text"
      },
      "source": [
        "### Tuning C & Gamma using GridSearch"
      ]
    },
    {
      "cell_type": "code",
      "metadata": {
        "id": "_P_8z_y5bpxd",
        "colab_type": "code",
        "outputId": "96b07758-396b-4819-c049-0857f02685c7",
        "colab": {
          "base_uri": "https://localhost:8080/",
          "height": 145
        }
      },
      "source": [
        "from sklearn.model_selection import GridSearchCV\n",
        "param_grid = {'svc__C':[1,5,10,50],'svc__gamma':[0.0001,0.0005,0.001,0.005]}\n",
        "grid = GridSearchCV(model,param_grid)\n",
        "% time grid.fit(Xtrain,ytrain)\n"
      ],
      "execution_count": 0,
      "outputs": [
        {
          "output_type": "stream",
          "text": [
            "/usr/local/lib/python3.6/dist-packages/sklearn/model_selection/_split.py:1978: FutureWarning: The default value of cv will change from 3 to 5 in version 0.22. Specify it explicitly to silence this warning.\n",
            "  warnings.warn(CV_WARNING, FutureWarning)\n",
            "/usr/local/lib/python3.6/dist-packages/sklearn/model_selection/_search.py:814: DeprecationWarning: The default of the `iid` parameter will change from True to False in version 0.22 and will be removed in 0.24. This will change numeric results when test-set sizes are unequal.\n",
            "  DeprecationWarning)\n"
          ],
          "name": "stderr"
        },
        {
          "output_type": "stream",
          "text": [
            "CPU times: user 39.7 s, sys: 11.1 s, total: 50.9 s\n",
            "Wall time: 29.5 s\n"
          ],
          "name": "stdout"
        }
      ]
    },
    {
      "cell_type": "markdown",
      "metadata": {
        "id": "4-dEi8wjsg8K",
        "colab_type": "text"
      },
      "source": [
        "### Predict the labels for the test data"
      ]
    },
    {
      "cell_type": "code",
      "metadata": {
        "id": "IBh6p6audlLs",
        "colab_type": "code",
        "outputId": "2b7cb42d-d945-4491-e55b-fc83c091da33",
        "colab": {
          "base_uri": "https://localhost:8080/",
          "height": 35
        }
      },
      "source": [
        "print(grid.best_params_)\n",
        "model = grid.best_estimator_\n",
        "ypred = model.predict(Xtest)\n"
      ],
      "execution_count": 0,
      "outputs": [
        {
          "output_type": "stream",
          "text": [
            "{'svc__C': 5, 'svc__gamma': 0.005}\n"
          ],
          "name": "stdout"
        }
      ]
    },
    {
      "cell_type": "markdown",
      "metadata": {
        "id": "a0nckOZQsnS6",
        "colab_type": "text"
      },
      "source": [
        "### Accuracy"
      ]
    },
    {
      "cell_type": "code",
      "metadata": {
        "id": "rEu8P8T6d3Qg",
        "colab_type": "code",
        "outputId": "31db9cb7-b180-4248-bcf0-59eddbc97ec7",
        "colab": {
          "base_uri": "https://localhost:8080/",
          "height": 287
        }
      },
      "source": [
        "from sklearn.metrics import classification_report\n",
        "print(classification_report(ytest,ypred,target_names = faces.target_names))"
      ],
      "execution_count": 0,
      "outputs": [
        {
          "output_type": "stream",
          "text": [
            "                   precision    recall  f1-score   support\n",
            "\n",
            "     Ariel Sharon       1.00      0.69      0.81        16\n",
            "     Colin Powell       0.87      0.85      0.86        61\n",
            "  Donald Rumsfeld       0.75      0.69      0.72        35\n",
            "    George W Bush       0.77      0.97      0.86       125\n",
            "Gerhard Schroeder       0.86      0.66      0.75        29\n",
            "      Hugo Chavez       1.00      0.68      0.81        19\n",
            "Junichiro Koizumi       1.00      0.76      0.87        17\n",
            "       Tony Blair       0.93      0.74      0.83        35\n",
            "\n",
            "         accuracy                           0.83       337\n",
            "        macro avg       0.90      0.76      0.81       337\n",
            "     weighted avg       0.84      0.83      0.83       337\n",
            "\n"
          ],
          "name": "stdout"
        }
      ]
    },
    {
      "cell_type": "markdown",
      "metadata": {
        "id": "v2PDR073sqUJ",
        "colab_type": "text"
      },
      "source": [
        "\n",
        "### Confision Matrix"
      ]
    },
    {
      "cell_type": "code",
      "metadata": {
        "id": "j_RwcXJ4eJye",
        "colab_type": "code",
        "outputId": "2764637d-2e42-4f35-d83b-df6be25e0fb5",
        "colab": {
          "base_uri": "https://localhost:8080/",
          "height": 287
        }
      },
      "source": [
        "from sklearn.metrics import confusion_matrix\n",
        "import seaborn as sns\n",
        "mat = confusion_matrix(ytest,ypred)\n",
        "sns.heatmap(mat.T,annot = True, cbar = False, square = True, fmt = 'd')"
      ],
      "execution_count": 0,
      "outputs": [
        {
          "output_type": "execute_result",
          "data": {
            "text/plain": [
              "<matplotlib.axes._subplots.AxesSubplot at 0x7fcffceda828>"
            ]
          },
          "metadata": {
            "tags": []
          },
          "execution_count": 16
        },
        {
          "output_type": "display_data",
          "data": {
            "image/png": "[encoded data removed]",
            "text/plain": [
              "<Figure size 432x288 with 1 Axes>"
            ]
          },
          "metadata": {
            "tags": []
          }
        }
      ]
    },
    {
      "cell_type": "code",
      "metadata": {
        "id": "hIUDGW3GfElc",
        "colab_type": "code",
        "outputId": "daac3bec-14d3-4a3e-a264-7f70854cd2fb",
        "colab": {
          "base_uri": "https://localhost:8080/",
          "height": 53
        }
      },
      "source": [
        "from sklearn import datasets\n",
        "from sklearn.multiclass import OneVsOneClassifier\n",
        "from sklearn.multiclass import OneVsRestClassifier\n",
        "from sklearn.svm import LinearSVC\n",
        "iris = datasets.load_iris()\n",
        "X,y = iris.data, iris.target\n",
        "clf = OneVsOneClassifier(LinearSVC(random_state = 0)).fit(X,y)\n",
        "ypred = clf.predict(X)\n",
        "\n"
      ],
      "execution_count": 0,
      "outputs": [
        {
          "output_type": "stream",
          "text": [
            "/usr/local/lib/python3.6/dist-packages/sklearn/svm/base.py:929: ConvergenceWarning: Liblinear failed to converge, increase the number of iterations.\n",
            "  \"the number of iterations.\", ConvergenceWarning)\n"
          ],
          "name": "stderr"
        }
      ]
    },
    {
      "cell_type": "code",
      "metadata": {
        "id": "p3HW80xsSHwi",
        "colab_type": "code",
        "outputId": "b239cd67-aeb2-49d7-b737-253509b922d9",
        "colab": {
          "base_uri": "https://localhost:8080/",
          "height": 197
        }
      },
      "source": [
        "from sklearn.metrics import classification_report\n",
        "print(classification_report(y,ypred,target_names = iris.target_names))"
      ],
      "execution_count": 0,
      "outputs": [
        {
          "output_type": "stream",
          "text": [
            "              precision    recall  f1-score   support\n",
            "\n",
            "      setosa       1.00      1.00      1.00        50\n",
            "  versicolor       1.00      0.94      0.97        50\n",
            "   virginica       0.94      1.00      0.97        50\n",
            "\n",
            "    accuracy                           0.98       150\n",
            "   macro avg       0.98      0.98      0.98       150\n",
            "weighted avg       0.98      0.98      0.98       150\n",
            "\n"
          ],
          "name": "stdout"
        }
      ]
    },
    {
      "cell_type": "code",
      "metadata": {
        "id": "ZcAHdDcwSj_Z",
        "colab_type": "code",
        "outputId": "1ca9ca8b-8468-4dcb-ac39-5f813d6490b7",
        "colab": {
          "base_uri": "https://localhost:8080/",
          "height": 287
        }
      },
      "source": [
        "from sklearn.metrics import confusion_matrix\n",
        "import seaborn as sns\n",
        "mat = confusion_matrix(y,ypred)\n",
        "sns.heatmap(mat.T, annot = True, fmt = 'd', square = True, cbar = False)"
      ],
      "execution_count": 0,
      "outputs": [
        {
          "output_type": "execute_result",
          "data": {
            "text/plain": [
              "<matplotlib.axes._subplots.AxesSubplot at 0x7f308771ffd0>"
            ]
          },
          "metadata": {
            "tags": []
          },
          "execution_count": 9
        },
        {
          "output_type": "display_data",
          "data": {
            "image/png": "[encoded data removed]",
            "text/plain": [
              "<Figure size 432x288 with 1 Axes>"
            ]
          },
          "metadata": {
            "tags": []
          }
        }
      ]
    },
    {
      "cell_type": "markdown",
      "metadata": {
        "id": "Mmwlgu64tTPO",
        "colab_type": "text"
      },
      "source": [
        "### Various SVM Setting"
      ]
    },
    {
      "cell_type": "code",
      "metadata": {
        "id": "e7CR2PG7Zr2k",
        "colab_type": "code",
        "colab": {}
      },
      "source": [
        "from sklearn.linear_model import LogisticRegression\n",
        "from sklearn.naive_bayes import GaussianNB \n",
        "from sklearn.ensemble import RandomForestClassifier\n",
        "from sklearn.svm import SVC\n",
        "from sklearn import datasets\n",
        "import numpy as np\n",
        "\n",
        "# Initializing Classifiers\n",
        "clf1 = SVC(gamma='auto')\n",
        "clf2 = SVC(kernel='linear', C=1.0, class_weight='balanced')\n",
        "clf3 = SVC(kernel='linear', C=1.0, decision_function_shape = 'oro')\n",
        "clf4 = SVC(kernel='linear', C=1.0, decision_function_shape = 'orv')\n",
        "\n",
        "# Loading some example data\n",
        "iris = datasets.load_iris()\n",
        "X = iris.data[:, [0,2]]\n",
        "y = iris.target\n",
        "X = iris.daat\n",
        "\n",
        "import matplotlib.pyplot as plt\n",
        "from mlxtend.plotting import plot_decision_regions\n",
        "import matplotlib.gridspec as gridspec\n",
        "import itertools\n",
        "gs = gridspec.GridSpec(2, 2)\n",
        "\n",
        "fig = plt.figure(figsize=(10,8))\n",
        "\n",
        "labels = ['SVM-gamma', 'SVM-linear-balanced', 'SVM-linear-oro', 'SVM-linear-ovr']\n",
        "\n",
        "for clf, lab, grd in zip([clf1, clf2, clf3, clf4],\n",
        "                         labels,\n",
        "                         itertools.product([0, 1], repeat=2)):\n",
        "\n",
        "    clf.fit(X, y)\n",
        "    ax = plt.subplot(gs[grd[0], grd[1]])\n",
        "    fig = plot_decision_regions(X=X, y=y, clf=clf, legend=2)\n",
        "    plt.title(lab)\n",
        "\n",
        "plt.show()"
      ],
      "execution_count": 0,
      "outputs": []
    }
  ]
}